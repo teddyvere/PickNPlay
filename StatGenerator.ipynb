{
 "cells": [
  {
   "cell_type": "code",
   "execution_count": 1,
   "metadata": {},
   "outputs": [],
   "source": [
    "import pandas as pd\n",
    "import requests\n",
    "from bs4 import BeautifulSoup\n"
   ]
  },
  {
   "cell_type": "code",
   "execution_count": 2,
   "metadata": {},
   "outputs": [
    {
     "name": "stdout",
     "output_type": "stream",
     "text": [
      "                          NAME   SEASON   TM   GP   MPG   PPG  RPG  APG  ...  \\\n",
      "0  1    Kevin Martin K. Martin  2005-06  SAC    6  32.8  13.2  5.0  0.5  ...   \n",
      "1  2    Kevin Martin K. Martin  2012-13  OKC   11  29.4  14.0  3.1  1.3  ...   \n",
      "2  3    Kevin Martin K. Martin  2015-16  SAS    5   9.8   4.4  0.8  0.6  ...   \n",
      "3                      Average                7.3  25.9  11.6  3.1  0.9  ...   \n",
      "4                        Total                 22  25.9  11.6  3.1  0.9  ...   \n",
      "\n",
      "   TPG    MIN   PTS   REB  AST  STL  BLK  TOV    PF   +/-  \n",
      "0  0.3    197    79    30    3    3    2    2    11   -14  \n",
      "1  1.0    323   154    34   14    7    3   11    18   +42  \n",
      "2  1.2     49    22     4    3    1    0    6     5   +10  \n",
      "3  0.9  189.7  85.0  22.7  6.7  3.7  1.7  6.3  11.3  12.7  \n",
      "4  0.9    569   255    68   20   11    5   19    34   +38  \n",
      "\n",
      "[5 rows x 34 columns]\n"
     ]
    }
   ],
   "source": [
    "# URL of the webpage\n",
    "url = 'https://www.statmuse.com/nba/ask/kevin-martin-career-playoff-stats'\n",
    "\n",
    "# Send a GET request to the webpage\n",
    "response = requests.get(url)\n",
    "\n",
    "# Parse the webpage content\n",
    "soup = BeautifulSoup(response.text, 'html.parser')\n",
    "\n",
    "# Find the table that contains the stats (you may need to inspect the webpage to find the correct selector)\n",
    "table = soup.find('table')  # Adjust if there are multiple tables\n",
    "\n",
    "# Create lists to hold the header and data\n",
    "header = []\n",
    "data = []\n",
    "\n",
    "# Extract header\n",
    "for th in table.find_all('th'):\n",
    "    header.append(th.text.strip())\n",
    "\n",
    "# Extract rows of data\n",
    "for tr in table.find_all('tr')[1:]:  # Skip the header row\n",
    "    row = []\n",
    "    for td in tr.find_all('td'):\n",
    "        row.append(td.text.strip())\n",
    "    data.append(row)\n",
    "\n",
    "# Create DataFrame\n",
    "df = pd.DataFrame(data, columns=header)\n",
    "\n",
    "# Display the DataFrame\n",
    "print(df) "
   ]
  },
  {
   "cell_type": "code",
   "execution_count": 4,
   "metadata": {},
   "outputs": [],
   "source": [
    "df.to_excel('kevin_Matin_Stats.xlsx', index=False) "
   ]
  }
 ],
 "metadata": {
  "kernelspec": {
   "display_name": "Python 3",
   "language": "python",
   "name": "python3"
  },
  "language_info": {
   "codemirror_mode": {
    "name": "ipython",
    "version": 3
   },
   "file_extension": ".py",
   "mimetype": "text/x-python",
   "name": "python",
   "nbconvert_exporter": "python",
   "pygments_lexer": "ipython3",
   "version": "3.12.6"
  }
 },
 "nbformat": 4,
 "nbformat_minor": 2
}
